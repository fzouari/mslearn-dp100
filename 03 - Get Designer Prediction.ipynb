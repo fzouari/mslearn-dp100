{
  "cells": [
    {
      "cell_type": "markdown",
      "metadata": {},
      "source": [
        "# Get Diabetes Predictions from a Designer Pipeline\n",
        "\n",
        "Modify the code in the cell below to use the ***ENDPOINT*** and ***PRIMARY_KEY*** for your **predict-diabetes** service. Then run the cell to submit new patient data and retrieve the predicted classification."
      ]
    },
    {
      "cell_type": "code",
      "execution_count": null,
      "metadata": {
        "gather": {
          "logged": 1649365639129
        }
      },
      "outputs": [],
      "source": [
        "endpoint = 'YOUR_ENDPOINT' #Replace with your endpoint\n",
        "key = 'YOUR_KEY' #Replace with your key\n",
        "\n",
        "import urllib.request\n",
        "import json\n",
        "import os\n",
        "\n",
        "data = {\n",
        "    \"Inputs\": {\n",
        "        \"input1\":\n",
        "        [\n",
        "            {\n",
        "                    'PatientID': 1882185,\n",
        "                    'Pregnancies': 9,\n",
        "                    'PlasmaGlucose': 104,\n",
        "                    'DiastolicBloodPressure': 51,\n",
        "                    'TricepsThickness': 7,\n",
        "                    'SerumInsulin': 24,\n",
        "                    'BMI': 27.36983156,\n",
        "                    'DiabetesPedigree': 1.3504720469999998,\n",
        "                    'Age': 43,\n",
        "            },\n",
        "        ],\n",
        "    },\n",
        "    \"GlobalParameters\":  {\n",
        "    }\n",
        "}\n",
        "\n",
        "body = str.encode(json.dumps(data))\n",
        "\n",
        "\n",
        "headers = {'Content-Type':'application/json', 'Authorization':('Bearer '+ key)}\n",
        "\n",
        "req = urllib.request.Request(endpoint, body, headers)\n",
        "\n",
        "try:\n",
        "    response = urllib.request.urlopen(req)\n",
        "    result = response.read()\n",
        "    json_result = json.loads(result)\n",
        "    output = json_result[\"Results\"][\"output1\"][0]\n",
        "    print('Patient: {}\\nPrediction: {}\\nProbability: {:.2f}'.format(output[\"PatientID\"],\n",
        "                                                            output[\"DiabetesPrediction\"],\n",
        "                                                            output[\"Probability\"],))\n",
        "except urllib.error.HTTPError as error:\n",
        "    print(\"The request failed with status code: \" + str(error.code))\n",
        "\n",
        "    # Print the headers to help debug\n",
        "    print(error.info())\n",
        "    print(json.loads(error.read().decode(\"utf8\", 'ignore')))"
      ]
    },
    {
      "cell_type": "code",
      "execution_count": null,
      "metadata": {
        "jupyter": {
          "outputs_hidden": false,
          "source_hidden": false
        },
        "nteract": {
          "transient": {
            "deleting": false
          }
        }
      },
      "outputs": [],
      "source": []
    }
  ],
  "metadata": {
    "kernel_info": {
      "name": "python38-azureml"
    },
    "kernelspec": {
      "display_name": "Python 3.8 - AzureML",
      "language": "python",
      "name": "python38-azureml"
    },
    "language_info": {
      "codemirror_mode": {
        "name": "ipython",
        "version": 3
      },
      "file_extension": ".py",
      "mimetype": "text/x-python",
      "name": "python",
      "nbconvert_exporter": "python",
      "pygments_lexer": "ipython3",
      "version": "3.8.5"
    },
    "nteract": {
      "version": "nteract-front-end@1.0.0"
    }
  },
  "nbformat": 4,
  "nbformat_minor": 0
}
